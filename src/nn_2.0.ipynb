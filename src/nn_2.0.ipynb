{
 "cells": [
  {
   "cell_type": "markdown",
   "id": "6e9eca70",
   "metadata": {},
   "source": [
    "# NN 2.0"
   ]
  },
  {
   "cell_type": "markdown",
   "id": "006067bb",
   "metadata": {},
   "source": [
    "## Defining data functions"
   ]
  },
  {
   "cell_type": "markdown",
   "id": "32215fac",
   "metadata": {},
   "source": [
    "Import needed libraries"
   ]
  },
  {
   "cell_type": "code",
   "execution_count": null,
   "id": "0377b828",
   "metadata": {},
   "outputs": [],
   "source": [
    "# imports\n",
    "import pandas as pd\n",
    "import tensorflow as tf\n",
    "import tensorflow.keras as ks\n",
    "import numpy as np"
   ]
  },
  {
   "cell_type": "markdown",
   "id": "883dbd29",
   "metadata": {},
   "source": [
    "Get data from file and remove columns with text"
   ]
  },
  {
   "cell_type": "code",
   "execution_count": null,
   "id": "b79fcd07",
   "metadata": {},
   "outputs": [],
   "source": [
    "def get_swissvotes_data()->pd.DataFrame:\n",
    "    import re\n",
    "    \n",
    "    dataset = pd.read_csv(\"../data/formatted/swissvotes_dataset_after_1900_utf8.csv\", sep=';')\n",
    "    \n",
    "    regex = re.compile(\"pdev_.*\")\n",
    "    to_excl = list(filter(regex.match, dataset.columns))\n",
    "    \n",
    "    dataset.drop(columns=to_excl, inplace=True)\n",
    "    dataset.drop(columns=[\"legisjahr\"], inplace=True)\n",
    "    dataset.drop(columns=[\"titel_kurz_d\", \"titel_kurz_f\", \"titel_off_d\", \"titel_off_f\", \"stichwort\"], inplace=True)\n",
    "    dataset.drop(columns=[\"swissvoteslink\", \"anzahl\", \"anneepolitique\", \"bkchrono_de\", \"bkchrono_fr\"], inplace=True)\n",
    "    dataset.drop(columns=[\"curiavista_de\", \"curiavista_fr\", \"urheber\", \"bkresults_de\", \"bkresults_fr\"], inplace=True)\n",
    "    dataset.drop(columns=[\"bfsmap_de\", \"bfsmap_fr\", \"nach_cockpit_d\", \"nach_cockpit_f\", \"nach_cockpit_e\"], inplace=True)\n",
    "    dataset = dataset[dataset[\"anr\"] < 646] # we don't care about future votes\n",
    "    \n",
    "    return dataset\n",
    "print(f\"Defined {get_swissvotes_data}\")"
   ]
  },
  {
   "cell_type": "code",
   "execution_count": null,
   "id": "721da4ae",
   "metadata": {},
   "outputs": [],
   "source": [
    "def get_rechtsform_onehot(data:pd.DataFrame = get_swissvotes_data())->pd.DataFrame:\n",
    "    tensor = tf.one_hot(data[\"rechtsform\"], 5).numpy();\n",
    "    result = pd.DataFrame(tensor, columns=[\"ref_obl\", \"ref_fak\", \"initiative\", \"gegen_entw\", \"stichfr\"], index=data.index)\n",
    "    \n",
    "    return result.astype(int)\n",
    "print(f\"Defined {get_rechtsform_onehot}\")"
   ]
  },
  {
   "cell_type": "code",
   "execution_count": null,
   "id": "98ba97ad",
   "metadata": {},
   "outputs": [],
   "source": [
    "def get_politikbereich_multihot(data:pd.DataFrame = get_swissvotes_data())->pd.DataFrame:\n",
    "    polber = data[[\"d1e1\", \"d2e1\", \"d3e1\"]]\n",
    "    polber = polber.replace('.', 0)\n",
    "    polber = polber.astype(int)\n",
    "    \n",
    "    # the names of the columns (they're a bit long)\n",
    "    cols = [\"Staatsordnung\", \"Aussenpolitik\", \"Sicherheitspolitik\", \"Wirtschaft\"]\n",
    "    cols += [\"Landwirtschaft\", \"Öffentliche Finanzen\", \"Energie\", \"Verkehr und Infrastruktur\"]\n",
    "    cols += [\"Umwelt und Lebensraum\", \"Sozialpolitik\", \"Bildung und Forschung\", \"Kultur, Religion, Medien\"]\n",
    "    \n",
    "    result = pd.DataFrame(columns=cols, index = data.index)\n",
    "    for i in range(len(result)):\n",
    "        row = np.zeros(12)\n",
    "        for p in polber.iloc[i]:\n",
    "            if p != 0:\n",
    "                row[p-1] = 1\n",
    "        result.iloc[i] = row\n",
    "    return result.astype(int)\n",
    "\n",
    "print(f\"Defined {get_politikbereich_multihot}\")"
   ]
  },
  {
   "cell_type": "code",
   "execution_count": null,
   "id": "de74f782",
   "metadata": {},
   "outputs": [],
   "source": [
    "def get_department_onehot(data:pd.DataFrame = get_swissvotes_data())->pd.DataFrame:\n",
    "    dep_single = data[\"dep\"].replace('.', 2) # voting at age 18 is the only vote with a '.' and it's dep of inner\n",
    "    dep_single = dep_single.astype(int)\n",
    "    tensor = tf.one_hot(dep_single, 8).numpy()\n",
    "    result = pd.DataFrame(tensor, columns=[\"EDA\", \"EDI\", \"EJPD\", \"VBS\", \"EFD\", \"WBF\", \"UVEK\", \"BK\"], index=data.index)\n",
    "    \n",
    "    return result.astype(int)\n",
    "\n",
    "print(f\"Defined {get_department_onehot}\")"
   ]
  },
  {
   "cell_type": "code",
   "execution_count": null,
   "id": "82965ed6",
   "metadata": {},
   "outputs": [],
   "source": [
    "def get_bundesrat_onehot(data:pd.DataFrame = get_swissvotes_data())->pd.DataFrame:\n",
    "    tensor = tf.one_hot(data[\"br_pos\"].replace('.', 3).astype(int), 3).numpy()\n",
    "    result = pd.DataFrame(tensor, columns=[\"Für\", \"Dagegen\", \"Keine\"], index=data.index)\n",
    "    return result.astype(int)\n",
    "\n",
    "print(f\"Defined {get_bundesrat_onehot}\")"
   ]
  },
  {
   "cell_type": "code",
   "execution_count": null,
   "id": "ff4dd8cb",
   "metadata": {},
   "outputs": [],
   "source": [
    "def get_legislatur(low:int, high:int, data:pd.DataFrame = get_swissvotes_data())->pd.DataFrame:\n",
    "    leg = data[\"legislatur\"]\n",
    "    def my_map(x:int, x_min:int=leg.min(0), x_max:int=leg.max(0), y_min:int=low, y_max:int=high)->float:\n",
    "        return (x-x_min)/(x_max-x_min)*(y_max-y_min)+y_min\n",
    "    \n",
    "    normalized = data[[\"legislatur\"]].applymap(my_map)\n",
    "    return normalized\n",
    "\n",
    "print(f\"Defined {get_legislatur}\")"
   ]
  },
  {
   "cell_type": "code",
   "execution_count": null,
   "id": "ea2633d3",
   "metadata": {},
   "outputs": [],
   "source": [
    "def get_parlament_onehot(data:pd.DataFrame = get_swissvotes_data()[\"nr_pos\"])->pd.DataFrame:\n",
    "    tensor = tf.one_hot(data.astype(int), 3).numpy()\n",
    "    result = pd.DataFrame(tensor, columns=[\"Für\", \"Dagegen\", \"Keine\"], index=data.index)\n",
    "    return result.astype(int)\n",
    "\n",
    "print(f\"Defined {get_parlament_onehot}\")"
   ]
  },
  {
   "cell_type": "code",
   "execution_count": null,
   "id": "52ba7b9e",
   "metadata": {},
   "outputs": [],
   "source": [
    "def get_parties(data:pd.DataFrame = get_swissvotes_data())->list:\n",
    "    import re\n",
    "    \n",
    "    regex_incl = re.compile(\"p_.*\")\n",
    "    regex_excl = re.compile(\"p_others_.*\")\n",
    "    \n",
    "    parties_pre = list(filter(regex_incl.match, data.columns))\n",
    "    parties = [p for p in parties_pre if not regex_excl.match(p)]\n",
    "    return parties\n",
    "\n",
    "print(f\"Defined {get_parties}\")"
   ]
  },
  {
   "cell_type": "code",
   "execution_count": null,
   "id": "7425aa40",
   "metadata": {},
   "outputs": [],
   "source": [
    "def normalize_party_reco(data:pd.DataFrame = get_swissvotes_data(), names:list = get_parties())->pd.DataFrame:\n",
    "    # deal with unwanted values first\n",
    "    normalized = data[names].replace(\".\", 0)\n",
    "    normalized.replace(np.nan, 0, inplace=True)\n",
    "    normalized = normalized.astype(int)\n",
    "    normalized.replace([3,4,5,66,9999], 0, inplace=True)\n",
    "    \n",
    "    result = pd.DataFrame(index=normalized.index)\n",
    "    \n",
    "    for p in names: # go through parties and create one hot encoding\n",
    "        tensor = tf.one_hot(normalized[p], 3).numpy()\n",
    "        temp = pd.DataFrame(tensor, columns=[p+\"_neutral\", p+\"_ja\", p+\"_nein\"], index=result.index)\n",
    "        result = result.join(temp)\n",
    "\n",
    "    return result.astype(int)\n",
    "print(f\"Defined {normalize_party_reco}\")"
   ]
  },
  {
   "cell_type": "code",
   "execution_count": null,
   "id": "07c8440a",
   "metadata": {},
   "outputs": [],
   "source": [
    "def get_vote_result(data:pd.DataFrame = get_swissvotes_data())->pd.DataFrame:\n",
    "    result = data[\"annahme\"].replace('.', 0)\n",
    "    return result.astype(int)\n",
    "\n",
    "print(f\"Defined {get_vote_result}\")"
   ]
  },
  {
   "cell_type": "code",
   "execution_count": null,
   "id": "96fcd599",
   "metadata": {},
   "outputs": [],
   "source": [
    "# creates a dataframe \n",
    "def get_canton_results(data:pd.DataFrame = get_swissvotes_data())->pd.DataFrame:\n",
    "    import re\n",
    "    regex = re.compile(\".*_annahme\")\n",
    "    canton_names = list(filter(regex.match, data.columns))\n",
    "    return data[canton_names].replace('.', 0).astype(int)\n",
    "\n",
    "print(f\"Defined {get_canton_results}\")"
   ]
  },
  {
   "cell_type": "markdown",
   "id": "cb520f0e",
   "metadata": {},
   "source": [
    "## Training the net"
   ]
  },
  {
   "cell_type": "code",
   "execution_count": null,
   "id": "b318fc43",
   "metadata": {},
   "outputs": [],
   "source": [
    "# get data\n",
    "def get_data():\n",
    "    swissvotes = get_swissvotes_data()\n",
    "    # the inputs used by the neural net are:\n",
    "        # Rechtsform (one hot),\n",
    "        # Politikbereich (multi hot),\n",
    "        # Department (one hot),\n",
    "        # Position of the Bundesrat (one hot),\n",
    "        # legislatur (normalized from 1-10),\n",
    "        # Position of Nationalrat (one hot),\n",
    "        # Position of Ständerat (one hot),\n",
    "        # Party recommendations (one hot)\n",
    "    in_rchtfrm = get_rechtsform_onehot()\n",
    "    in_poltber = get_politikbereich_multihot()\n",
    "    in_deprtmt = get_department_onehot()\n",
    "    in_burapos = get_bundesrat_onehot()\n",
    "    in_narapos = get_parlament_onehot()\n",
    "    in_strapos = get_parlament_onehot(swissvotes[\"sr_pos\"])\n",
    "    in_parties = normalize_party_reco()\n",
    "    \n",
    "    inputs = pd.concat([in_rchtfrm, in_poltber, in_deprtmt, in_burapos, in_narapos, in_strapos, in_parties], axis=1)\n",
    "    \n",
    "    # the outputs are:\n",
    "        # result of the votes (binary),\n",
    "        # result on a canton level (binary)\n",
    "    out_result = get_vote_result()\n",
    "    out_canton = get_canton_results()\n",
    "    \n",
    "    outputs = pd.concat([out_result, out_canton], axis=1)\n",
    "    \n",
    "    return swissvotes, inputs, outputs\n",
    "\n",
    "print(f\"Defined {get_data}\")"
   ]
  },
  {
   "cell_type": "code",
   "execution_count": null,
   "id": "3d227986",
   "metadata": {},
   "outputs": [],
   "source": [
    "def create_model(input_size:int = len(get_data()[1].columns), hidden:list=[100, 50, 20],\n",
    "                 output_size:int = len(get_data()[2].columns), activation:str=\"relu\",\n",
    "                 activation_output:str=\"sigmoid\", \n",
    "                 optimizer=ks.optimizers.SGD(learning_rate=0.1), \n",
    "                 loss=ks.losses.BinaryCrossentropy())->ks.models.Sequential:\n",
    "    model = ks.models.Sequential()\n",
    "    \n",
    "    model.add(ks.layers.Dense(units=input_size, activation=activation, name=\"Input\"))\n",
    "    \n",
    "    for i in range(len(hidden)):\n",
    "        model.add(ks.layers.Dense(units=hidden[i], activation=activation, name=\"Hidden_\"+str(i)))\n",
    "        model.add(ks.layers.Dropout(rate=.1, name=\"Dropout_\"+str(i)))\n",
    "        \n",
    "    model.add(ks.layers.Dense(units=output_size, activation=activation_output, name=\"Output\"))\n",
    "    \n",
    "    model.compile(optimizer=optimizer, loss=loss, metrics=[ks.metrics.BinaryAccuracy(), \n",
    "                                                           ks.metrics.FalseNegatives()])\n",
    "    \n",
    "    return model\n",
    "\n",
    "print(f\"Defined {create_model}\")"
   ]
  },
  {
   "cell_type": "code",
   "execution_count": null,
   "id": "68d38517",
   "metadata": {},
   "outputs": [],
   "source": [
    "def train_model(model:ks.models.Sequential, inputs:pd.DataFrame=get_data()[1], \n",
    "                outputs:pd.DataFrame=get_data()[2], test_size:float=0.6, \n",
    "                batch_size:int=50, epochs:int=75, shuffle:bool=True)->tuple:\n",
    "    from sklearn.model_selection import train_test_split as tss\n",
    "    in_train, in_test, out_train, out_test = tss(inputs, outputs, test_size=test_size)\n",
    "    \n",
    "    history = model.fit(x=in_train, y=out_train, batch_size=batch_size, epochs=epochs, shuffle=shuffle)\n",
    "    \n",
    "    return history, in_test, out_test\n",
    "\n",
    "print(f\"Defined {train_model}\")"
   ]
  },
  {
   "cell_type": "code",
   "execution_count": null,
   "id": "63fb0fa2",
   "metadata": {},
   "outputs": [],
   "source": [
    "model = create_model(hidden=[10, 20], \n",
    "                     loss=ks.losses.MeanAbsoluteError(), activation_output=\"sigmoid\")\n",
    "\n",
    "history, in_test, out_test = train_model(model, epochs=125)\n",
    "\n",
    "print(model.summary())"
   ]
  },
  {
   "cell_type": "code",
   "execution_count": null,
   "id": "3f2f6366",
   "metadata": {},
   "outputs": [],
   "source": [
    "model.evaluate(x=in_test, y=out_test)"
   ]
  },
  {
   "cell_type": "code",
   "execution_count": null,
   "id": "118bc5a0",
   "metadata": {},
   "outputs": [],
   "source": []
  }
 ],
 "metadata": {
  "kernelspec": {
   "display_name": "Python 3 (ipykernel)",
   "language": "python",
   "name": "python3"
  },
  "language_info": {
   "codemirror_mode": {
    "name": "ipython",
    "version": 3
   },
   "file_extension": ".py",
   "mimetype": "text/x-python",
   "name": "python",
   "nbconvert_exporter": "python",
   "pygments_lexer": "ipython3",
   "version": "3.8.10"
  }
 },
 "nbformat": 4,
 "nbformat_minor": 5
}
