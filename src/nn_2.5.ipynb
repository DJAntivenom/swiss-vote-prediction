{
 "cells": [
  {
   "cell_type": "markdown",
   "id": "6e9eca70",
   "metadata": {},
   "source": [
    "# NN 2.0"
   ]
  },
  {
   "cell_type": "markdown",
   "id": "006067bb",
   "metadata": {},
   "source": [
    "## Defining data functions"
   ]
  },
  {
   "cell_type": "markdown",
   "id": "32215fac",
   "metadata": {},
   "source": [
    "Import needed libraries"
   ]
  },
  {
   "cell_type": "code",
   "execution_count": null,
   "id": "0377b828",
   "metadata": {},
   "outputs": [],
   "source": [
    "# imports\n",
    "import pandas as pd\n",
    "import tensorflow as tf\n",
    "import tensorflow.keras as ks\n",
    "import numpy as np\n",
    "import seaborn as sns\n",
    "from matplotlib import pyplot as plt"
   ]
  },
  {
   "cell_type": "markdown",
   "id": "883dbd29",
   "metadata": {},
   "source": [
    "Get data from file and remove columns with text"
   ]
  },
  {
   "cell_type": "code",
   "execution_count": null,
   "id": "b79fcd07",
   "metadata": {},
   "outputs": [],
   "source": [
    "def get_swissvotes_data(now:int=651, since:int=299)->pd.DataFrame:\n",
    "    import re\n",
    "    \n",
    "    dataset = pd.read_csv(\"../data/formatted/swissvotes_edited_nov_2021.csv\", sep=';')\n",
    "    \n",
    "    regex = re.compile(\"pdev_.*\")\n",
    "    to_excl = list(filter(regex.match, dataset.columns))\n",
    "    \n",
    "    dataset.drop(columns=to_excl, inplace=True)\n",
    "    dataset.drop(columns=[\"legisjahr\"], inplace=True)\n",
    "    dataset.drop(columns=[\"titel_kurz_d\", \"titel_kurz_f\", \"titel_off_d\", \"titel_off_f\", \"stichwort\"], inplace=True)\n",
    "    dataset.drop(columns=[\"swissvoteslink\", \"anzahl\", \"anneepolitique\", \"bkchrono_de\", \"bkchrono_fr\"], inplace=True)\n",
    "    dataset.drop(columns=[\"curiavista_de\", \"curiavista_fr\", \"urheber\", \"bkresults_de\", \"bkresults_fr\"], inplace=True)\n",
    "    dataset.drop(columns=[\"bfsmap_de\", \"bfsmap_fr\", \"nach_cockpit_d\", \"nach_cockpit_f\", \"nach_cockpit_e\"], inplace=True)\n",
    "    dataset = dataset[dataset[\"anr\"] < now] # we don't care about future votes\n",
    "    dataset = dataset[dataset[\"anr\"] >= since]\n",
    "    \n",
    "    return dataset\n",
    "print(f\"Defined {get_swissvotes_data}\")"
   ]
  },
  {
   "cell_type": "code",
   "execution_count": null,
   "id": "66726f77",
   "metadata": {},
   "outputs": [],
   "source": [
    "def get_left_right_data(now:int=651, since:int=299)->pd.DataFrame:\n",
    "    col_names = [\"anr\", \"datum\", \"titel_kurz_d\", \"ja_proz\", \"links_rechts\", \"kons_prog\"]\n",
    "    dataset = pd.read_csv(\"../data/formatted/brj_lire_konslib_edited.csv\", sep=',')\n",
    "    dataset = dataset[dataset[\"anr\"].map(lambda x: x.replace(',', '.')).astype(float) < now]\n",
    "    dataset = dataset.replace(\"#ZAHL!\", np.nan).replace(\"Nan\", np.nan)\n",
    "    dataset = dataset[dataset[\"anr\"].map(lambda x: x.replace(',', '.')).astype(float) >= since]\n",
    "    \n",
    "    return pd.DataFrame(dataset.drop(columns=[\"titel_kurz\"]), index=get_swissvotes_data(now=now, since=since).index)\n",
    "\n",
    "print(f\"Defined {get_left_right_data}\")"
   ]
  },
  {
   "cell_type": "code",
   "execution_count": null,
   "id": "9ba0672d",
   "metadata": {},
   "outputs": [],
   "source": [
    "def get_l_r_onehot(data:pd.DataFrame=get_left_right_data()[\"li_re\"])->pd.DataFrame:\n",
    "    temp = data.replace(np.nan, 4).astype(int)\n",
    "    temp += 3\n",
    "    tensor = tf.one_hot(temp, 8).numpy()\n",
    "    \n",
    "    temp = pd.DataFrame(tensor, columns=[\"l3\", \"l2\", \"l1\", \"nlr\", \"r1\", \"r2\", \"r3\", \"del\"], index=data.index)\n",
    "    return temp.drop(columns=[\"del\"])\n",
    "\n",
    "print(f\"Defined {get_l_r_onehot}\")"
   ]
  },
  {
   "cell_type": "code",
   "execution_count": null,
   "id": "b4bacb50",
   "metadata": {},
   "outputs": [],
   "source": [
    "def get_l_r_exact(data:pd.DataFrame=get_left_right_data()[\"li_re\"])->pd.DataFrame:\n",
    "    temp = data.replace(np.nan, 0).astype(int)\n",
    "    return temp + 3\n",
    "print(f\"Defined {get_l_r_exact}\")"
   ]
  },
  {
   "cell_type": "code",
   "execution_count": null,
   "id": "e8761202",
   "metadata": {},
   "outputs": [],
   "source": [
    "def get_kons_prog_exact(data:pd.DataFrame=get_left_right_data()[\"kons_prog\"])->pd.DataFrame:\n",
    "    temp = data.replace(np.nan, 0).astype(int)\n",
    "    return temp + 3\n",
    "print(f\"Defined {get_kons_prog_exact}\")"
   ]
  },
  {
   "cell_type": "code",
   "execution_count": null,
   "id": "619bc7f7",
   "metadata": {},
   "outputs": [],
   "source": [
    "def get_kons_prog_onehot(data:pd.DataFrame=get_left_right_data()[\"kons_prog\"])->pd.DataFrame:\n",
    "    temp = data.replace(np.nan, 4).astype(int)\n",
    "    temp += 3\n",
    "    tensor = tf.one_hot(temp, 8).numpy()\n",
    "    \n",
    "    temp = pd.DataFrame(tensor, columns=[\"k3\", \"k2\", \"k1\", \"nkp\", \"p1\", \"p2\", \"p3\", \"del\"], index=data.index)\n",
    "    return temp.drop(columns=[\"del\"])\n",
    "\n",
    "print(f\"Defined {get_kons_prog_onehot}\")"
   ]
  },
  {
   "cell_type": "code",
   "execution_count": null,
   "id": "721da4ae",
   "metadata": {},
   "outputs": [],
   "source": [
    "def get_rechtsform_onehot(data:pd.DataFrame = get_swissvotes_data())->pd.DataFrame:\n",
    "    tensor = tf.one_hot(data[\"rechtsform\"], 5).numpy();\n",
    "    result = pd.DataFrame(tensor, columns=[\"ref_obl\", \"ref_fak\", \"initiative\", \"gegen_entw\", \"stichfr\"], index=data.index)\n",
    "    \n",
    "    return result.astype(int)\n",
    "print(f\"Defined {get_rechtsform_onehot}\")"
   ]
  },
  {
   "cell_type": "code",
   "execution_count": null,
   "id": "98ba97ad",
   "metadata": {},
   "outputs": [],
   "source": [
    "def get_politikbereich_multihot(data:pd.DataFrame = get_swissvotes_data())->pd.DataFrame:\n",
    "    polber = data[[\"d1e1\", \"d2e1\", \"d3e1\"]]\n",
    "    polber = polber.replace('.', 0)\n",
    "    polber = polber.astype(int)\n",
    "    \n",
    "    # the names of the columns (they're a bit long)\n",
    "    cols = [\"Staatsordnung\", \"Aussenpolitik\", \"Sicherheitspolitik\", \"Wirtschaft\"]\n",
    "    cols += [\"Landwirtschaft\", \"Öffentliche Finanzen\", \"Energie\", \"Verkehr und Infrastruktur\"]\n",
    "    cols += [\"Umwelt und Lebensraum\", \"Sozialpolitik\", \"Bildung und Forschung\", \"Kultur, Religion, Medien\"]\n",
    "    \n",
    "    result = pd.DataFrame(columns=cols, index = data.index)\n",
    "    for i in range(len(result)):\n",
    "        row = np.zeros(len(cols))\n",
    "        for p in polber.iloc[i]:\n",
    "            if p != 0:\n",
    "                row[p-1] = 1\n",
    "        result.iloc[i] = row\n",
    "    return result.astype(int)\n",
    "\n",
    "print(f\"Defined {get_politikbereich_multihot}\")"
   ]
  },
  {
   "cell_type": "code",
   "execution_count": null,
   "id": "de74f782",
   "metadata": {},
   "outputs": [],
   "source": [
    "def get_department_onehot(data:pd.DataFrame = get_swissvotes_data())->pd.DataFrame:\n",
    "    dep_single = data[\"dep\"].replace('.', 2) # voting at age 18 is the only vote with a '.' and it's dep of inner\n",
    "    dep_single = dep_single.astype(int)\n",
    "    dep_names = [\"EDA\", \"EDI\", \"EJPD\", \"VBS\", \"EFD\", \"WBF\", \"UVEK\", \"BK\"]\n",
    "    tensor = tf.one_hot(dep_single, len(dep_names)).numpy()\n",
    "    result = pd.DataFrame(tensor, columns=dep_names, index=data.index)\n",
    "    \n",
    "    return result.astype(int)\n",
    "\n",
    "print(f\"Defined {get_department_onehot}\")"
   ]
  },
  {
   "cell_type": "code",
   "execution_count": null,
   "id": "82965ed6",
   "metadata": {},
   "outputs": [],
   "source": [
    "def get_bundesrat_onehot(data:pd.DataFrame = get_swissvotes_data())->pd.DataFrame:\n",
    "    tensor = tf.one_hot(data[\"br_pos\"].replace('.', 3).astype(int), 3).numpy()\n",
    "    result = pd.DataFrame(tensor, columns=[\"Für_bund\", \"Dagegen_bund\", \"Keine_bund\"], index=data.index)\n",
    "    return result.astype(int)\n",
    "\n",
    "print(f\"Defined {get_bundesrat_onehot}\")"
   ]
  },
  {
   "cell_type": "code",
   "execution_count": null,
   "id": "ff4dd8cb",
   "metadata": {},
   "outputs": [],
   "source": [
    "def get_legislatur(low:int=0, high:int=3, data:pd.DataFrame = get_swissvotes_data())->pd.DataFrame:\n",
    "    leg = data[\"legislatur\"]\n",
    "    def my_map(x:int, x_min:int=leg.min(0), x_max:int=leg.max(0), y_min:int=low, y_max:int=high)->float:\n",
    "        return (x-x_min)/(x_max-x_min)*(y_max-y_min)+y_min\n",
    "    \n",
    "    normalized = data[[\"legislatur\"]].applymap(my_map)\n",
    "    return normalized\n",
    "\n",
    "print(f\"Defined {get_legislatur}\")"
   ]
  },
  {
   "cell_type": "code",
   "execution_count": null,
   "id": "97fd9a9c",
   "metadata": {},
   "outputs": [],
   "source": [
    "def get_parlament_exact(name = \"nr\")->pd.DataFrame:\n",
    "    data = get_swissvotes_data()[[name+\"ja\", name+\"nein\"]]\n",
    "    ja = data[name+\"ja\"].replace('.', 0).astype(int)\n",
    "    return ja/(ja+data[name+\"nein\"].replace('.', 1).astype(int))\n",
    "print(f\"Defined {get_parlament_exact}\")"
   ]
  },
  {
   "cell_type": "code",
   "execution_count": null,
   "id": "ea2633d3",
   "metadata": {},
   "outputs": [],
   "source": [
    "def get_parlament_onehot(data:pd.DataFrame = get_swissvotes_data()[\"nr_pos\"])->pd.DataFrame:\n",
    "    tensor = tf.one_hot(data.astype(int), 3).numpy()\n",
    "    result = pd.DataFrame(tensor, columns=[\"Für_\"+data.name, \"Dagegen_\"+data.name, \"Keine_\"+data.name], index=data.index)\n",
    "    return result.astype(int)\n",
    "\n",
    "print(f\"Defined {get_parlament_onehot}\")"
   ]
  },
  {
   "cell_type": "code",
   "execution_count": null,
   "id": "52ba7b9e",
   "metadata": {},
   "outputs": [],
   "source": [
    "def get_parties(data:pd.DataFrame = get_swissvotes_data())->list:\n",
    "    import re\n",
    "    \n",
    "    regex_incl = re.compile(\"p_.*\")\n",
    "    regex_excl = re.compile(\"p_others_.*\")\n",
    "    \n",
    "    parties_pre = list(filter(regex_incl.match, data.columns))\n",
    "    parties = [p for p in parties_pre if not regex_excl.match(p)]\n",
    "    return parties\n",
    "\n",
    "print(f\"Defined {get_parties}\")"
   ]
  },
  {
   "cell_type": "code",
   "execution_count": null,
   "id": "7425aa40",
   "metadata": {},
   "outputs": [],
   "source": [
    "def normalize_party_reco(data:pd.DataFrame = get_swissvotes_data(), names:list = get_parties())->pd.DataFrame:\n",
    "    # deal with unwanted values first\n",
    "    normalized = data[names].replace(\".\", 0)\n",
    "    normalized.replace(np.nan, 0, inplace=True)\n",
    "    normalized = normalized.astype(int)\n",
    "    normalized.replace([3,4,5,66,9999], 0, inplace=True)\n",
    "    \n",
    "    result = pd.DataFrame(index=normalized.index)\n",
    "    \n",
    "    for p in names: # go through parties and create one hot encoding\n",
    "        tensor = tf.one_hot(normalized[p], 3).numpy()\n",
    "        temp = pd.DataFrame(tensor, columns=[p+\"_neutral\", p+\"_ja\", p+\"_nein\"], index=result.index)\n",
    "        result = result.join(temp)\n",
    "\n",
    "    return result.astype(int)\n",
    "print(f\"Defined {normalize_party_reco}\")"
   ]
  },
  {
   "cell_type": "code",
   "execution_count": null,
   "id": "07c8440a",
   "metadata": {},
   "outputs": [],
   "source": [
    "def get_vote_result(data:pd.DataFrame = get_swissvotes_data())->pd.DataFrame:\n",
    "    result = data[\"annahme\"].replace('.', 0)\n",
    "    return result.astype(int)\n",
    "\n",
    "print(f\"Defined {get_vote_result}\")"
   ]
  },
  {
   "cell_type": "code",
   "execution_count": null,
   "id": "96fcd599",
   "metadata": {},
   "outputs": [],
   "source": [
    "# creates a dataframe \n",
    "def get_canton_results(data:pd.DataFrame = get_swissvotes_data())->pd.DataFrame:\n",
    "    import re\n",
    "    regex = re.compile(\".*_annahme\")\n",
    "    canton_names = list(filter(regex.match, data.columns))\n",
    "    return data[canton_names].replace('.', 0).astype(int)\n",
    "\n",
    "print(f\"Defined {get_canton_results}\")"
   ]
  },
  {
   "cell_type": "code",
   "execution_count": null,
   "id": "7c907f80",
   "metadata": {},
   "outputs": [],
   "source": [
    "def get_volk_proz(data:pd.DataFrame=get_swissvotes_data())->pd.DataFrame:\n",
    "    temp = data[\"volkja_proz\"]\n",
    "    return temp / 100\n",
    "\n",
    "print(f\"Defined {get_volk_proz}\")"
   ]
  },
  {
   "cell_type": "code",
   "execution_count": null,
   "id": "5afb9f2a",
   "metadata": {},
   "outputs": [],
   "source": [
    "def get_canton_proz(data:pd.DataFrame=get_swissvotes_data(), name:str=None)->pd.DataFrame:\n",
    "    if name != None:\n",
    "        return data[name+\"_japroz\"].replace('.', 50).astype(float) / 100\n",
    "    \n",
    "    import re\n",
    "    regex = re.compile(\".._japroz\")\n",
    "    names = list(filter(regex.match, data.columns))\n",
    "    return data[names].replace('.', 50).astype(float) / 100\n",
    "\n",
    "print(f\"Defined {get_canton_proz}\")"
   ]
  },
  {
   "cell_type": "code",
   "execution_count": null,
   "id": "70130206",
   "metadata": {},
   "outputs": [],
   "source": [
    "def get_canton_names()->list:\n",
    "    import re\n",
    "    regex = re.compile(\".._japroz\")\n",
    "    return [x[0:2] for x in list(filter(regex.match, get_swissvotes_data().columns))]\n",
    "\n",
    "print(f\"Defined {get_canton_names}\")"
   ]
  },
  {
   "cell_type": "markdown",
   "id": "cb520f0e",
   "metadata": {},
   "source": [
    "## Training the net"
   ]
  },
  {
   "cell_type": "code",
   "execution_count": null,
   "id": "b318fc43",
   "metadata": {},
   "outputs": [],
   "source": [
    "# get data    \n",
    "# the possible inputs for the neural net are:\n",
    "    # Rechtsform (one hot),\n",
    "    # Politikbereich (multi hot),\n",
    "    # Department (one hot),\n",
    "    # Position of the Bundesrat (one hot),\n",
    "    # legislatur (normalized from 0-3),\n",
    "    # Position of Nationalrat [0:1],\n",
    "    # Position of Ständerat [0:1],\n",
    "    # Party recommendations (one hot),\n",
    "    # left, right rating (one hot),\n",
    "    # conservative, liberal (one hot)\n",
    "# the possible outputs are:\n",
    "    # result of the votes (binary),\n",
    "    # result on a canton level (binary)\n",
    "    # yes percentage of the people ([0:1]),\n",
    "    # yes percentage by canton ([0:1])\n",
    "def get_data(input_func:list=[get_rechtsform_onehot,\n",
    "                             get_politikbereich_multihot, \n",
    "                             get_department_onehot, \n",
    "                             get_bundesrat_onehot,\n",
    "                             get_legislatur,\n",
    "                             get_parlament_exact,\n",
    "                             get_parlament_exact,\n",
    "                             normalize_party_reco,\n",
    "                             get_l_r_exact,\n",
    "                             get_kons_prog_exact], \n",
    "            input_args:list=[None, \n",
    "                            None,\n",
    "                            None,\n",
    "                            None,\n",
    "                            None,\n",
    "                            None,\n",
    "                            \"sr\",\n",
    "                            None,\n",
    "                            None,\n",
    "                            None],\n",
    "            output_func:list=[get_vote_result,\n",
    "                             get_canton_results,\n",
    "                             get_volk_proz, \n",
    "                             get_canton_proz],\n",
    "            output_args:list=[None,\n",
    "                             None,\n",
    "                             None,\n",
    "                             None]):\n",
    "    input_list = []\n",
    "    for f, a in zip(input_func, input_args):\n",
    "        if type(a) == type(None):\n",
    "            input_list.append(f())\n",
    "        else:\n",
    "            input_list.append(f(a))\n",
    "    \n",
    "    inputs = pd.concat(input_list, axis=1)\n",
    "    \n",
    "    out_list = []\n",
    "    for f, a in zip(output_func, output_args):\n",
    "        if type(a) == type(None):\n",
    "            out_list.append(f())\n",
    "        else:\n",
    "            out_list.append(f(a))\n",
    "    \n",
    "    outputs = pd.concat(out_list, axis=1)\n",
    "    \n",
    "    return get_swissvotes_data(), inputs, outputs\n",
    "\n",
    "print(f\"Defined {get_data}\")"
   ]
  },
  {
   "cell_type": "code",
   "execution_count": null,
   "id": "3d227986",
   "metadata": {},
   "outputs": [],
   "source": [
    "def create_model(name:str, input_size:int = len(get_data()[1].columns), hidden:list=[100, 50, 20],\n",
    "                 output_size:int = len(get_data(output_func=[get_vote_result,get_canton_results], \n",
    "                                                output_args=[None,None])[2].columns), \n",
    "                 activation:str=\"relu\", activation_output:str=\"sigmoid\", \n",
    "                 optimizer=ks.optimizers.SGD(learning_rate=0.1), \n",
    "                 loss=ks.losses.BinaryCrossentropy(), \n",
    "                 metrics:list=[ks.metrics.BinaryAccuracy(), ks.metrics.FalseNegatives()])->ks.models.Sequential:\n",
    "    model = ks.models.Sequential(name=name)\n",
    "    \n",
    "    model.add(ks.layers.Dense(units=input_size, activation=activation, name=\"Input\"))\n",
    "    \n",
    "    for i in range(len(hidden)):\n",
    "        model.add(ks.layers.Dense(units=hidden[i], activation=activation, name=\"Hidden_\"+str(i)))\n",
    "        model.add(ks.layers.Dropout(rate=.1, name=\"Dropout_\"+str(i)))\n",
    "        \n",
    "    model.add(ks.layers.Dense(units=output_size, activation=activation_output, name=\"Output\"))\n",
    "    \n",
    "    model.compile(optimizer=optimizer, loss=loss, metrics=metrics)\n",
    "    \n",
    "    return model\n",
    "\n",
    "print(f\"Defined {create_model}\")"
   ]
  },
  {
   "cell_type": "code",
   "execution_count": null,
   "id": "68d38517",
   "metadata": {},
   "outputs": [],
   "source": [
    "def train_model(model:ks.models.Sequential, \n",
    "                inputs:pd.DataFrame=get_data()[1], \n",
    "                outputs:pd.DataFrame=get_data(output_func=[get_vote_result,get_canton_results], \n",
    "                                              output_args=[None,None])[2], \n",
    "                test_size:float=0.6, batch_size:int=50, epochs:int=125, shuffle:bool=True, verbose=0)->tuple:\n",
    "    \n",
    "    from sklearn.model_selection import train_test_split as tss\n",
    "    in_train, in_test, out_train, out_test = tss(inputs, outputs, test_size=test_size, shuffle=shuffle)\n",
    "    \n",
    "    history = model.fit(x=in_train, y=out_train, batch_size=batch_size, epochs=epochs, \n",
    "                        shuffle=shuffle, verbose=verbose)\n",
    "    \n",
    "    return history, in_test, out_test\n",
    "\n",
    "print(f\"Defined {train_model}\")"
   ]
  },
  {
   "cell_type": "code",
   "execution_count": null,
   "id": "cc3fd9fa",
   "metadata": {},
   "outputs": [],
   "source": [
    "def predict_single(model:ks.models.Sequential, anr:int):\n",
    "    data = get_data()\n",
    "    inputs = data[1]\n",
    "    inputs = inputs[data[0][\"anr\"] == anr]\n",
    "    tensor = tf.convert_to_tensor(inputs)\n",
    "    \n",
    "    return model.predict(tensor)[0][0]\n",
    "print(f\"Defined {predict_single}\")"
   ]
  },
  {
   "cell_type": "markdown",
   "id": "07e074bc",
   "metadata": {},
   "source": [
    "### Create and Train models\n",
    "\n",
    "There are two national models. One for binary results and one for exact percentage of yes votes."
   ]
  },
  {
   "cell_type": "code",
   "execution_count": null,
   "id": "63fb0fa2",
   "metadata": {},
   "outputs": [],
   "source": [
    "optimizer = ks.optimizers.RMSprop(learning_rate=0.01)\n",
    "epochs = 200\n",
    "\n",
    "nat_bin_shuf = create_model(\"BinaryModel\", optimizer=optimizer, output_size=1, \n",
    "                            metrics=[ks.metrics.MeanAbsoluteError()])\n",
    "nat_bin_nons = create_model(\"BinaryModel\", optimizer=optimizer, output_size=1, \n",
    "                            metrics=[ks.metrics.MeanAbsoluteError()])\n",
    "nat_ext_shuf = create_model(\"ExactModel\", optimizer=optimizer, output_size=1, loss=ks.losses.MeanAbsoluteError(), \n",
    "                           metrics=[ks.metrics.MeanSquaredError(), ks.metrics.MeanAbsoluteError()])\n",
    "nat_ext_nons = create_model(\"ExactModel\", optimizer=optimizer, output_size=1, loss=ks.losses.MeanAbsoluteError(), \n",
    "                           metrics=[ks.metrics.MeanSquaredError(), ks.metrics.MeanAbsoluteError()])\n",
    "\n",
    "history_bin_shuf, in_test_bin_shuf, out_test_bin_shuf = train_model(nat_bin_shuf, epochs=epochs,\n",
    "                                                     outputs=get_data(output_func=[get_vote_result], \n",
    "                                                                      output_args=[None])[2])\n",
    "history_per_shuf, in_test_per_shuf, out_test_per_shuf = train_model(nat_ext_shuf, epochs=epochs,\n",
    "                                                     outputs=get_data(output_func=[get_volk_proz], \n",
    "                                                                      output_args=[None])[2])\n",
    "history_bin_nons, in_test_bin_nons, out_test_bin_nons = train_model(nat_bin_nons, epochs=epochs,\n",
    "                                                     outputs=get_data(output_func=[get_vote_result], \n",
    "                                                                      output_args=[None])[2], shuffle=False)\n",
    "history_per_nons, in_test_per_nons, out_test_per_nons = train_model(nat_ext_nons, epochs=epochs,\n",
    "                                                     outputs=get_data(output_func=[get_volk_proz], \n",
    "                                                                      output_args=[None])[2], shuffle=False)"
   ]
  },
  {
   "cell_type": "code",
   "execution_count": null,
   "id": "bff15b75",
   "metadata": {},
   "outputs": [],
   "source": [
    "res_bin_shuf = nat_bin_shuf.evaluate(x=in_test_bin_shuf, y=out_test_bin_shuf)\n",
    "res_per_shuf = nat_ext_shuf.evaluate(x=in_test_per_shuf, y=out_test_per_shuf)\n",
    "res_bin_nons = nat_bin_nons.evaluate(x=in_test_bin_nons, y=out_test_bin_nons)\n",
    "res_per_nons = nat_ext_nons.evaluate(x=in_test_per_nons, y=out_test_per_nons)\n",
    "\n",
    "from sklearn.metrics import r2_score\n",
    "\n",
    "print(f\"\"\"Shuffeled:\n",
    "\\tBinary model results:\n",
    "    \\t\\t{res_bin_shuf}\n",
    "    \\t\\tR2: {r2_score(nat_bin_shuf.predict(in_test_bin_shuf), out_test_bin_shuf)}\n",
    "\\tExact model results:\n",
    "    \\t\\t{res_per_shuf}\n",
    "    \\t\\tR2:{r2_score(nat_ext_shuf.predict(in_test_per_shuf), out_test_per_shuf)}\n",
    "Non-shuffeled:\n",
    "\\tBinary model results:\n",
    "    \\t\\t{res_bin_nons}\n",
    "    \\t\\tR2:{r2_score(nat_bin_nons.predict(in_test_bin_nons), out_test_bin_nons)}\n",
    "\\tExact model results:\n",
    "    \\t\\t{res_per_nons}\n",
    "    \\t\\tR2:{r2_score(nat_ext_nons.predict(in_test_per_nons), out_test_per_nons)}\"\"\")"
   ]
  },
  {
   "cell_type": "markdown",
   "id": "e1b4efc8",
   "metadata": {},
   "source": [
    "**Let's try to create a model for each canton.**"
   ]
  },
  {
   "cell_type": "code",
   "execution_count": null,
   "id": "df2ff2f4",
   "metadata": {},
   "outputs": [],
   "source": [
    "def get_per_canton_models(names:list=get_canton_names(), optimizer=ks.optimizers.SGD(learning_rate=0.01), \n",
    "                          loss=ks.losses.MeanAbsoluteError(), \n",
    "                          metrics:list=[ks.metrics.MeanSquaredError(), ks.metrics.MeanAbsoluteError()])->list:\n",
    "    result = []\n",
    "    for c in names:\n",
    "        result.append((create_model(\"Canton_\"+c, output_size=1, \n",
    "                                    optimizer=optimizer, loss=loss, \n",
    "                                    metrics=metrics), c))\n",
    "    \n",
    "    return result\n",
    "print(f\"Defined {get_per_canton_models}\")"
   ]
  },
  {
   "cell_type": "code",
   "execution_count": null,
   "id": "13bad890",
   "metadata": {},
   "outputs": [],
   "source": [
    "def train_per_canton_models(train_inputs, train_outputs, \n",
    "                            models:list=np.array(get_per_canton_models())[:,0],  \n",
    "                            test_size:float=0.6, batch_size:int=50, epochs:int=125, shuffle:bool=True)->list:\n",
    "    result = []\n",
    "    for t in models:\n",
    "        result.append(t.fit(x=train_inputs, y=train_outputs, batch_size=batch_size, epochs=epochs, \n",
    "                               shuffle=shuffle, verbose=0))\n",
    "        \n",
    "    return result\n",
    "        \n",
    "print(f\"Defined {train_per_canton_models}\")"
   ]
  },
  {
   "cell_type": "code",
   "execution_count": null,
   "id": "cec6ac54",
   "metadata": {},
   "outputs": [],
   "source": [
    "def get_population_distribution():\n",
    "    return {\"zh\":17.9, \"be\":12, \"vd\":9.4, \"ag\":8, \"sg\":5.9, \"ge\":5.8, \"lu\":4.8, \"ti\":4, \n",
    "                  \"vs\":4, \"fr\":3.8, \"bl\":3.4, \"tg\":3.3, \"so\": 3.2, \"gr\":2.3, \"bs\":2.3, \n",
    "                  \"ne\":2, \"sz\":1.9, \"zg\":1.5, \"sh\":1, \"ju\":0.9, \"ar\":0.6, \"nw\":0.5, \"gl\":0.5, \n",
    "                  \"ow\":0.4, \"ur\":0.4, \"ai\":0.2}"
   ]
  },
  {
   "cell_type": "code",
   "execution_count": null,
   "id": "5f749ec1",
   "metadata": {},
   "outputs": [],
   "source": [
    "def predict_national_from_cantonal_outcome(model_tuples:list, inputs):\n",
    "    population = get_population_distribution()\n",
    "    s = model_tuples[0][0].predict(inputs) * 0\n",
    "    for t in model_tuples:\n",
    "        s += t[0].predict(inputs) * population[t[1]]\n",
    "        \n",
    "    return s/100\n",
    "print(f\"Defined {predict_national_from_cantonal_outcome}\")"
   ]
  },
  {
   "cell_type": "code",
   "execution_count": null,
   "id": "201a0dee",
   "metadata": {},
   "outputs": [],
   "source": [
    "def get_test_data_per_canton_models(test_size:float=0.2, shuffle:bool=True):\n",
    "    data = get_data(output_func=[get_canton_proz, get_volk_proz], output_args=[None, None])\n",
    "    \n",
    "    from sklearn.model_selection import train_test_split as tss\n",
    "    intr, inte, outr, oute = tss(data[1], data[2], test_size=test_size, shuffle=shuffle)\n",
    "    outr = outr.drop(columns=[\"volkja_proz\"])\n",
    "    \n",
    "    model_data = get_per_canton_models()\n",
    "    models = [md[0] for md in model_data]\n",
    "    train_per_canton_models(intr, outr, models, shuffle=shuffle)\n",
    "    \n",
    "    y_pred = np.squeeze(predict_national_from_cantonal_outcome(model_data, inte))\n",
    "        \n",
    "    return y_pred, oute[\"volkja_proz\"]\n",
    "print(f\"Defined {get_test_data_per_canton_models}\")"
   ]
  },
  {
   "cell_type": "code",
   "execution_count": null,
   "id": "c46e0306",
   "metadata": {},
   "outputs": [],
   "source": [
    "y_pred_nonshuf, y_real_nonshuf = get_test_data_per_canton_models()\n",
    "y_pred_shuffle, y_real_shuffle = get_test_data_per_canton_models(shuffle=False)\n",
    "mse_nonshuf = ks.metrics.mean_squared_error(y_pred_nonshuf, y_real_nonshuf)\n",
    "mae_nonshuf = ks.metrics.mean_absolute_error(y_pred_nonshuf, y_real_nonshuf)\n",
    "mse_shuffle = ks.metrics.mean_squared_error(y_pred_shuffle, y_real_shuffle)\n",
    "mae_shuffle = ks.metrics.mean_absolute_error(y_pred_shuffle, y_real_shuffle)\n",
    "from sklearn.metrics import r2_score\n",
    "r2_shuf = r2_score(y_pred_shuffle, y_real_shuffle)\n",
    "r2_nons = r2_score(y_pred_nonshuf, y_real_nonshuf)\n",
    "print(f\"\"\"National prediction from cantonal models:\n",
    "        shuffled:\n",
    "            mse:\\t{mse_shuffle}\n",
    "            mae:\\t{mae_shuffle}\n",
    "            r2:\\t\\t{r2_shuf}\n",
    "        non shuffled:\n",
    "            mse:\\t{mse_nonshuf}\n",
    "            mae:\\t{mae_nonshuf}\n",
    "            r2:\\t\\t{r2_nons}\"\"\")"
   ]
  },
  {
   "cell_type": "code",
   "execution_count": null,
   "id": "338b192f",
   "metadata": {},
   "outputs": [],
   "source": []
  }
 ],
 "metadata": {
  "kernelspec": {
   "display_name": "Python 3 (ipykernel)",
   "language": "python",
   "name": "python3"
  },
  "language_info": {
   "codemirror_mode": {
    "name": "ipython",
    "version": 3
   },
   "file_extension": ".py",
   "mimetype": "text/x-python",
   "name": "python",
   "nbconvert_exporter": "python",
   "pygments_lexer": "ipython3",
   "version": "3.8.10"
  }
 },
 "nbformat": 4,
 "nbformat_minor": 5
}
